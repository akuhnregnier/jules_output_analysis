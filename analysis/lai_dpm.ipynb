{
 "cells": [
  {
   "cell_type": "code",
   "execution_count": null,
   "metadata": {},
   "outputs": [],
   "source": [
    "from pathlib import Path\n",
    "from warnings import filterwarnings\n",
    "\n",
    "import iris\n",
    "import matplotlib.pyplot as plt\n",
    "import numpy as np\n",
    "from tqdm import tqdm\n",
    "from tqdm.auto import tqdm\n",
    "from wildfires.data import homogenise_time_coordinate\n",
    "from wildfires.utils import reorder_cube_coord\n",
    "\n",
    "filterwarnings(\"ignore\", \".*divide by zero.*\")"
   ]
  },
  {
   "cell_type": "code",
   "execution_count": null,
   "metadata": {},
   "outputs": [],
   "source": [
    "source_dir = Path(\"~/JULES_output/jules_output5\").expanduser()\n",
    "assert source_dir.is_dir()"
   ]
  },
  {
   "cell_type": "code",
   "execution_count": null,
   "metadata": {},
   "outputs": [],
   "source": [
    "cubes = homogenise_time_coordinate(\n",
    "    iris.load(str(source_dir / \"*Monthly*.nc\"))\n",
    ").concatenate()"
   ]
  },
  {
   "cell_type": "code",
   "execution_count": null,
   "metadata": {},
   "outputs": [],
   "source": [
    "cubes"
   ]
  },
  {
   "cell_type": "code",
   "execution_count": null,
   "metadata": {},
   "outputs": [],
   "source": [
    "lai = cubes.extract_strict(\"Gridbox leaf area index\")\n",
    "lai"
   ]
  },
  {
   "cell_type": "code",
   "execution_count": null,
   "metadata": {},
   "outputs": [],
   "source": [
    "dpm = cubes.extract_strict(\"C in decomposable plant material, gridbox total\")\n",
    "dpm"
   ]
  },
  {
   "cell_type": "code",
   "execution_count": null,
   "metadata": {},
   "outputs": [],
   "source": [
    "_ = plt.hist(dpm.data.ravel())"
   ]
  },
  {
   "cell_type": "code",
   "execution_count": null,
   "metadata": {},
   "outputs": [],
   "source": [
    "_ = plt.hist(lai.data.ravel())"
   ]
  },
  {
   "cell_type": "code",
   "execution_count": null,
   "metadata": {},
   "outputs": [],
   "source": [
    "for i in range(12):\n",
    "    dpm_data = np.roll(dpm.data, i, axis=0).ravel()\n",
    "    lai_data = lai.data.ravel()\n",
    "\n",
    "    plt.figure()\n",
    "    plt.hexbin(dpm_data, lai_data, bins=\"log\")\n",
    "    plt.xlabel(f\"DPM {i}\")\n",
    "    plt.ylabel(\"LAI\")\n",
    "    _ = plt.colorbar()"
   ]
  },
  {
   "cell_type": "code",
   "execution_count": null,
   "metadata": {},
   "outputs": [],
   "source": [
    "def get_climatologies(scubes):\n",
    "    ccubes = iris.cube.CubeList()\n",
    "    for cube in tqdm(scubes):\n",
    "        if not cube.coords(\"month_number\"):\n",
    "            iris.coord_categorisation.add_month_number(cube, \"time\")\n",
    "        ccube = cube.aggregated_by(\"month_number\", iris.analysis.MEAN)\n",
    "\n",
    "        sort_indices = np.argsort(ccube.coord(\"month_number\").points)\n",
    "        if not np.all(sort_indices == np.arange(len(sort_indices))):\n",
    "            # Reorder cubes to let month numbers increase monotonically if needed.\n",
    "            ccube = reorder_cube_coord(\n",
    "                ccube, sort_indices, name=\"month_number\", promote=True\n",
    "            )\n",
    "        ccubes.append(ccube)\n",
    "    return ccubes"
   ]
  },
  {
   "cell_type": "code",
   "execution_count": null,
   "metadata": {},
   "outputs": [],
   "source": [
    "dpm_clim, lai_clim = get_climatologies([dpm, lai])"
   ]
  },
  {
   "cell_type": "code",
   "execution_count": null,
   "metadata": {},
   "outputs": [],
   "source": [
    "plt.figure()\n",
    "plt.plot(dpm_clim[:, ..., 100].data)\n",
    "plt.title(\"DPM\")\n",
    "plt.figure()\n",
    "plt.plot(lai_clim[:, ..., 100].data)\n",
    "plt.title(\"LAI\")"
   ]
  },
  {
   "cell_type": "code",
   "execution_count": null,
   "metadata": {},
   "outputs": [],
   "source": [
    "shifts = np.arange(12)\n",
    "corrs = []\n",
    "for shift in shifts:\n",
    "    corrs.append(\n",
    "        np.corrcoef(\n",
    "            dpm_clim.data.ravel(), np.roll(lai_clim.data, -shift, axis=0).data.ravel()\n",
    "        )[0, 1]\n",
    "    )\n",
    "plt.plot(shifts, corrs)\n",
    "plt.ylabel(\"DPM & shift-LAI Correlation\")\n",
    "_ = plt.xlabel(\"Shift (month)\")"
   ]
  },
  {
   "cell_type": "code",
   "execution_count": null,
   "metadata": {},
   "outputs": [],
   "source": [
    "def min_max_scale(data):\n",
    "    mins = np.min(data, axis=0).reshape(1, 1, -1)\n",
    "    data = data - mins\n",
    "    maxs = np.max(data, axis=0).reshape(1, 1, -1)\n",
    "    return data / maxs"
   ]
  },
  {
   "cell_type": "code",
   "execution_count": null,
   "metadata": {},
   "outputs": [],
   "source": [
    "plt.figure()\n",
    "plt.plot(min_max_scale(dpm_clim.data)[:, ..., 100])\n",
    "plt.title(\"DPM\")\n",
    "plt.figure()\n",
    "plt.plot(min_max_scale(lai_clim.data)[:, ..., 100])\n",
    "plt.title(\"LAI\")"
   ]
  },
  {
   "cell_type": "code",
   "execution_count": null,
   "metadata": {},
   "outputs": [],
   "source": [
    "shifts = np.arange(12)\n",
    "corrs = []\n",
    "for shift in shifts:\n",
    "    corrs.append(\n",
    "        np.corrcoef(\n",
    "            min_max_scale(dpm_clim.data).ravel(),\n",
    "            np.roll(min_max_scale(lai_clim.data), -shift, axis=0).data.ravel(),\n",
    "        )[0, 1]\n",
    "    )\n",
    "plt.plot(shifts, corrs)\n",
    "plt.ylabel(\"DPM & shift-LAI Correlation\")\n",
    "_ = plt.xlabel(\"Shift (month)\")"
   ]
  }
 ],
 "metadata": {
  "kernelspec": {
   "display_name": "Python [conda env:wildfires] *",
   "language": "python",
   "name": "conda-env-wildfires-py"
  }
 },
 "nbformat": 4,
 "nbformat_minor": 4
}
