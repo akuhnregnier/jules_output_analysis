{
 "cells": [
  {
   "cell_type": "code",
   "execution_count": null,
   "metadata": {},
   "outputs": [],
   "source": [
    "from pathlib import Path\n",
    "from warnings import filterwarnings\n",
    "\n",
    "import iris\n",
    "import matplotlib as mpl\n",
    "import matplotlib.pyplot as plt\n",
    "import numpy as np\n",
    "from IPython.core.display import HTML, display\n",
    "from tqdm.auto import tqdm\n",
    "from wildfires.analysis import cube_plotting\n",
    "from wildfires.configuration import DATA_DIR\n",
    "from wildfires.data import regions_GFED\n",
    "from wildfires.utils import match_shape\n",
    "\n",
    "from jules_output_analysis.data import (\n",
    "    dummy_lat_lon_cube,\n",
    "    frac_weighted_mean,\n",
    "    get_climatology_cube,\n",
    "    get_n96e_land_mask,\n",
    "    load_jules_data,\n",
    "    regrid_to_n96e,\n",
    ")\n",
    "from jules_output_analysis.utils import PFTs, pft_names\n",
    "\n",
    "filterwarnings(\"ignore\", \".*divide by zero.*\")\n",
    "filterwarnings(\"ignore\", \".*invalid units.*\")\n",
    "filterwarnings(\"ignore\", \".*may not be fully.*\")\n",
    "filterwarnings(\"ignore\", \".*axes.*\")\n",
    "filterwarnings(\"ignore\")\n",
    "mpl.rc_file(\"matplotlibrc\")"
   ]
  },
  {
   "cell_type": "code",
   "execution_count": null,
   "metadata": {},
   "outputs": [],
   "source": [
    "# source_dir = Path(\"/work/scratch-nopw/alexkr/cru_test_mod_copy_fixed_pft\")  # Fixed PFT run\n",
    "# source_dir = Path(\"/work/scratch-nopw/alexkr/cru_test_mod_copy\")  # New run\n",
    "# source_dir = Path(\"/work/scratch-nopw/alexkr/ignition3_1/jules_output\")  # Old run, 'wrong' FAPAR\n",
    "# source_dir = Path(\"/work/scratch-nopw/alexkr/newrun\")\n",
    "source_dir = Path(\"/work/scratch-pw/alexkr/new-with-antec\")\n",
    "assert source_dir.is_dir()"
   ]
  },
  {
   "cell_type": "code",
   "execution_count": null,
   "metadata": {},
   "outputs": [],
   "source": [
    "file_patterns = [\n",
    "    str(\n",
    "        source_dir\n",
    "        / f\"JULES-ES.1p0.vn5.4.50.CRUJRA1.365.HYDE33.SPINUP0.Monthly.{year}.nc\"\n",
    "    )\n",
    "    for year in range(2000, 2001)\n",
    "]"
   ]
  },
  {
   "cell_type": "code",
   "execution_count": null,
   "metadata": {},
   "outputs": [],
   "source": [
    "frac_cube = load_jules_data(\n",
    "    file_patterns,\n",
    "    \"Fractional cover of each surface type\",\n",
    "    n_pfts=13,\n",
    "    frac_cube=None,\n",
    "    single=True,\n",
    ")\n",
    "frac_cube"
   ]
  },
  {
   "cell_type": "code",
   "execution_count": null,
   "metadata": {},
   "outputs": [],
   "source": [
    "for i in range(frac_cube.shape[1]):\n",
    "    cube_plotting(frac_cube[0, i], title=pft_names[PFTs.VEG13_ALL][i])"
   ]
  },
  {
   "cell_type": "code",
   "execution_count": null,
   "metadata": {},
   "outputs": [],
   "source": [
    "raw_cubes = iris.load(\n",
    "    str(source_dir / \"JULES-ES.1p0.vn5.4.50.CRUJRA1.365.HYDE33.SPINUP0.Monthly.2000.nc\")\n",
    ")\n",
    "raw_cubes"
   ]
  },
  {
   "cell_type": "code",
   "execution_count": null,
   "metadata": {},
   "outputs": [],
   "source": [
    "target = \"Gridbox mean burnt area fraction\"\n",
    "ba_cube = load_jules_data(\n",
    "    \"/work/scratch-pw/katie_b1/u-cd730/JULES-ES.1p0.vn5.4.50.CRUJRA1.365.HYDE33.S3.Monthly.2000.nc\",\n",
    "    target,\n",
    "    n_pfts=13,\n",
    "    frac_cube=None,\n",
    "    single=True,\n",
    ")\n",
    "\n",
    "avg_data_2d = np.mean(ba_cube.data, axis=0)\n",
    "max_data_2d = np.max(ba_cube.data, axis=0)\n",
    "std_data_2d = np.std(ba_cube.data, axis=0)\n",
    "\n",
    "fig = cube_plotting(avg_data_2d, title=f\"{target} mean\")\n",
    "fig = cube_plotting(max_data_2d, title=f\"{target} max\")"
   ]
  },
  {
   "cell_type": "code",
   "execution_count": null,
   "metadata": {},
   "outputs": [],
   "source": [
    "target = \"PFT gross primary productivity\"\n",
    "cube_2d = load_jules_data(\n",
    "    \"/work/scratch-pw/katie_b1/u-cd730/JULES-ES.1p0.vn5.4.50.CRUJRA1.365.HYDE33.S3.Monthly.2000.nc\",\n",
    "    target,\n",
    "    n_pfts=13,\n",
    "    frac_cube=frac_cube[:12],\n",
    "    single=True,\n",
    ")\n",
    "\n",
    "# The unweighted mean is, as expected, markedly different from the proper weighted average.\n",
    "# fig = cube_plotting(\n",
    "#     cube_2d.collapsed(('time', 'pft'), iris.analysis.MEAN),\n",
    "#     title=f'{target} Unweighted MEAN'\n",
    "# )\n",
    "\n",
    "# Take weighted mean, weighted by frac, but only the X natural PFTs (e.g. 13)\n",
    "agg_data_2d = frac_weighted_mean(cube_2d[:12], frac_cube[:12], n_pfts=13)\n",
    "\n",
    "avg_data_2d = np.mean(agg_data_2d, axis=0)\n",
    "max_data_2d = np.max(agg_data_2d, axis=0)\n",
    "std_data_2d = np.std(agg_data_2d, axis=0)\n",
    "\n",
    "fig = cube_plotting(avg_data_2d, title=f\"{target} mean\")\n",
    "fig = cube_plotting(max_data_2d, title=f\"{target} max\")\n",
    "fig = cube_plotting(std_data_2d, title=f\"{target} std\")\n",
    "fig = cube_plotting(std_data_2d / avg_data_2d, title=f\"{target} std / mean\")"
   ]
  },
  {
   "cell_type": "code",
   "execution_count": null,
   "metadata": {},
   "outputs": [],
   "source": [
    "target = \"Gridbox gross primary productivity\"\n",
    "cube_2d = load_jules_data(\n",
    "    \"/work/scratch-pw/katie_b1/u-cd730/JULES-ES.1p0.vn5.4.50.CRUJRA1.365.HYDE33.S3.Monthly.2000.nc\",\n",
    "    target,\n",
    "    n_pfts=13,\n",
    "    frac_cube=None,\n",
    "    single=True,\n",
    ")\n",
    "fig = cube_plotting(np.mean(cube_2d.data, axis=0), title=f\"{target} mean\")\n",
    "fig = cube_plotting(np.max(cube_2d.data, axis=0), title=f\"{target} max\")\n",
    "fig = cube_plotting(np.std(cube_2d.data, axis=0), title=f\"{target} std\")"
   ]
  },
  {
   "cell_type": "code",
   "execution_count": null,
   "metadata": {},
   "outputs": [],
   "source": [
    "target = \"PFT leaf area index\"\n",
    "lai_2d = frac_weighted_mean(\n",
    "    load_jules_data(\n",
    "        str(\n",
    "            source_dir\n",
    "            / \"JULES-ES.1p0.vn5.4.50.CRUJRA1.365.HYDE33.SPINUP0.Monthly.2000.nc\"\n",
    "        ),\n",
    "        target,\n",
    "        n_pfts=13,\n",
    "        frac_cube=frac_cube[:12],\n",
    "        single=True,\n",
    "    )[:12],\n",
    "    frac_cube[:12],\n",
    "    n_pfts=13,\n",
    ")\n",
    "\n",
    "avg_lai_2d = np.mean(lai_2d, axis=0)\n",
    "max_lai_2d = np.max(lai_2d, axis=0)\n",
    "std_lai_2d = np.std(lai_2d, axis=0)\n",
    "\n",
    "fig = cube_plotting(avg_lai_2d, title=f\"{target} mean\")\n",
    "fig = cube_plotting(max_lai_2d, title=f\"{target} max\")\n",
    "fig = cube_plotting(std_lai_2d, title=f\"{target} std\")"
   ]
  },
  {
   "cell_type": "code",
   "execution_count": null,
   "metadata": {},
   "outputs": [],
   "source": [
    "target = \"PFT Fraction of Absorbed Photosynthetically Active Radiation\"\n",
    "fapar_2d = frac_weighted_mean(\n",
    "    load_jules_data(\n",
    "        str(\n",
    "            source_dir\n",
    "            / \"JULES-ES.1p0.vn5.4.50.CRUJRA1.365.HYDE33.SPINUP0.Monthly.2000.nc\"\n",
    "        ),\n",
    "        target,\n",
    "        n_pfts=13,\n",
    "        frac_cube=frac_cube[:12],\n",
    "        single=True,\n",
    "    )[:12],\n",
    "    frac_cube[:12],\n",
    "    n_pfts=13,\n",
    ")\n",
    "\n",
    "avg_fapar_2d = np.mean(fapar_2d, axis=0)\n",
    "max_fapar_2d = np.max(fapar_2d, axis=0)\n",
    "std_fapar_2d = np.std(fapar_2d, axis=0)\n",
    "\n",
    "fig = cube_plotting(avg_fapar_2d, title=f\"{target} mean\")\n",
    "fig = cube_plotting(max_fapar_2d, title=f\"{target} max\")\n",
    "fig = cube_plotting(std_fapar_2d, title=f\"{target} std\")"
   ]
  },
  {
   "cell_type": "code",
   "execution_count": null,
   "metadata": {},
   "outputs": [],
   "source": [
    "target = \"PFT fuel build up\"\n",
    "fuel_build_up_2d = frac_weighted_mean(\n",
    "    load_jules_data(\n",
    "        str(\n",
    "            source_dir\n",
    "            / \"JULES-ES.1p0.vn5.4.50.CRUJRA1.365.HYDE33.SPINUP0.Monthly.2005.nc\"\n",
    "        ),\n",
    "        target,\n",
    "        n_pfts=13,\n",
    "        frac_cube=frac_cube[:12],\n",
    "        single=True,\n",
    "    )[:12],\n",
    "    frac_cube[:12],\n",
    "    n_pfts=13,\n",
    ")"
   ]
  },
  {
   "cell_type": "code",
   "execution_count": null,
   "metadata": {},
   "outputs": [],
   "source": [
    "fig = cube_plotting(fuel_build_up_2d[0], title=\"fuel build up 0\")\n",
    "fig = cube_plotting(fapar_2d[0], title=\"fapar 0\")"
   ]
  },
  {
   "cell_type": "markdown",
   "metadata": {},
   "source": [
    "### FAPAR and Antecedent FAPAR (fuel build up) for certain pixels (small regions)"
   ]
  },
  {
   "cell_type": "code",
   "execution_count": null,
   "metadata": {},
   "outputs": [],
   "source": [
    "lat = 0\n",
    "lon = 15\n",
    "constraint = iris.Constraint(\n",
    "    latitude=lambda c: lat < c.point < lat + 5,\n",
    "    longitude=lambda c: lon < c.point < lon + 5,\n",
    ")\n",
    "\n",
    "plt.plot(\n",
    "    dummy_lat_lon_cube(fapar_2d)\n",
    "    .extract(constraint)\n",
    "    .collapsed((\"latitude\", \"longitude\"), iris.analysis.MEAN)\n",
    "    .data,\n",
    "    label=\"fapar\",\n",
    ")\n",
    "plt.plot(\n",
    "    dummy_lat_lon_cube(fuel_build_up_2d)\n",
    "    .extract(constraint)\n",
    "    .collapsed((\"latitude\", \"longitude\"), iris.analysis.MEAN)\n",
    "    .data,\n",
    "    label=\"fuel build up\",\n",
    ")\n",
    "plt.legend()\n",
    "_ = plt.title(f\"lat: {lat}, lon: {lon}\")"
   ]
  },
  {
   "cell_type": "markdown",
   "metadata": {},
   "source": [
    "### Load observed, reference LAI and FAPAR"
   ]
  },
  {
   "cell_type": "code",
   "execution_count": null,
   "metadata": {},
   "outputs": [],
   "source": [
    "target = \"Obs. LAI\"\n",
    "\n",
    "ref_lai_cube_2d = regrid_to_n96e(\n",
    "    iris.load_cube(str(Path(DATA_DIR) / \"LAI_climatology.nc\"))\n",
    ")\n",
    "ref_lai_cube_2d.data.mask |= match_shape(\n",
    "    ~get_n96e_land_mask(),\n",
    "    ref_lai_cube_2d.shape,\n",
    ")\n",
    "\n",
    "display(HTML(ref_lai_cube_2d._repr_html_()))\n",
    "\n",
    "ref_avg_lai_cube_2d = ref_lai_cube_2d.collapsed(\"time\", iris.analysis.MEAN)\n",
    "ref_max_lai_cube_2d = ref_lai_cube_2d.collapsed(\"time\", iris.analysis.MAX)\n",
    "ref_std_lai_cube_2d = ref_avg_lai_cube_2d.copy(\n",
    "    data=np.std(ref_lai_cube_2d.data, axis=0)\n",
    ")\n",
    "\n",
    "fig = cube_plotting(ref_avg_lai_cube_2d, title=f\"{target} mean\")\n",
    "fig = cube_plotting(ref_max_lai_cube_2d, title=f\"{target} max\")\n",
    "fig = cube_plotting(ref_std_lai_cube_2d, title=f\"{target} std\")\n",
    "fig = cube_plotting(\n",
    "    ref_std_lai_cube_2d / ref_avg_lai_cube_2d, title=f\"{target} std / mean\"\n",
    ")"
   ]
  },
  {
   "cell_type": "code",
   "execution_count": null,
   "metadata": {},
   "outputs": [],
   "source": [
    "target = \"Obs. FAPAR\"\n",
    "\n",
    "ref_fapar_cube_2d = regrid_to_n96e(\n",
    "    iris.load_cube(str(Path(DATA_DIR) / \"FAPAR_climatology.nc\"))\n",
    ")\n",
    "ref_fapar_cube_2d.data.mask |= match_shape(\n",
    "    ~get_n96e_land_mask(),\n",
    "    ref_fapar_cube_2d.shape,\n",
    ")\n",
    "\n",
    "display(HTML(ref_fapar_cube_2d._repr_html_()))\n",
    "\n",
    "ref_avg_fapar_cube_2d = ref_fapar_cube_2d.collapsed(\"time\", iris.analysis.MEAN)\n",
    "ref_max_fapar_cube_2d = ref_fapar_cube_2d.collapsed(\"time\", iris.analysis.MAX)\n",
    "ref_std_fapar_cube_2d = ref_avg_fapar_cube_2d.copy(\n",
    "    data=np.std(ref_fapar_cube_2d.data, axis=0)\n",
    ")\n",
    "\n",
    "fig = cube_plotting(ref_avg_fapar_cube_2d, title=f\"{target} mean\")\n",
    "fig = cube_plotting(ref_max_fapar_cube_2d, title=f\"{target} max\")\n",
    "fig = cube_plotting(ref_std_fapar_cube_2d, title=f\"{target} std\")\n",
    "fig = cube_plotting(\n",
    "    ref_std_fapar_cube_2d / ref_avg_fapar_cube_2d, title=f\"{target} std / mean\"\n",
    ")"
   ]
  },
  {
   "cell_type": "code",
   "execution_count": null,
   "metadata": {},
   "outputs": [],
   "source": [
    "regions = regions_GFED()\n",
    "regions"
   ]
  },
  {
   "cell_type": "code",
   "execution_count": null,
   "metadata": {},
   "outputs": [],
   "source": [
    "regions_map = regions.attributes[\"regions\"]\n",
    "regions_map"
   ]
  },
  {
   "cell_type": "code",
   "execution_count": null,
   "metadata": {},
   "outputs": [],
   "source": [
    "# Mask out the oceans.\n",
    "regions.data = np.ma.MaskedArray(regions.data, mask=regions.data == 0)"
   ]
  },
  {
   "cell_type": "markdown",
   "metadata": {},
   "source": [
    "#### Regrid to N96e"
   ]
  },
  {
   "cell_type": "code",
   "execution_count": null,
   "metadata": {},
   "outputs": [],
   "source": [
    "n96e_regions = regrid_to_n96e(regions)"
   ]
  },
  {
   "cell_type": "code",
   "execution_count": null,
   "metadata": {},
   "outputs": [],
   "source": [
    "n96e_regions.data.mask = n96e_regions.data == 0"
   ]
  },
  {
   "cell_type": "code",
   "execution_count": null,
   "metadata": {},
   "outputs": [],
   "source": [
    "# Apply land mask.\n",
    "n96e_regions.data.mask |= ~get_n96e_land_mask()"
   ]
  },
  {
   "cell_type": "code",
   "execution_count": null,
   "metadata": {},
   "outputs": [],
   "source": [
    "fig = cube_plotting(regions, boundaries=np.arange(1, 16) - 0.5)\n",
    "fig = cube_plotting(n96e_regions, boundaries=np.arange(1, 16) - 0.5)"
   ]
  },
  {
   "cell_type": "markdown",
   "metadata": {},
   "source": [
    "#### Climatology comparison by region - with JULES data averaged over PFTs"
   ]
  },
  {
   "cell_type": "code",
   "execution_count": null,
   "metadata": {},
   "outputs": [],
   "source": [
    "# Check that the regions selection is working.\n",
    "# for data_cube in tqdm([pft_avg_cube_2d, ref_cube_2d]):\n",
    "#     for region in tqdm(range(1, 15)):  # Exclude the ocean.\n",
    "#         mask = match_shape(n96e_regions.data == region, data_cube.shape)\n",
    "#         plot_cube = data_cube.copy()\n",
    "#         plot_cube.data.mask |= ~mask\n",
    "#         cube_plotting(\n",
    "#             plot_cube, fig=plt.figure(figsize=(3, 1), dpi=100), title=str(region)\n",
    "#         )"
   ]
  },
  {
   "cell_type": "code",
   "execution_count": null,
   "metadata": {},
   "outputs": [],
   "source": [
    "# Note that the spatial averaging done here is not area weighted!\n",
    "for region in tqdm(range(1, 15)):  # Exclude the ocean.\n",
    "    fig, ax = plt.subplots(1, 1)\n",
    "    ax.set_title(regions_map[region])\n",
    "    ax2 = ax.twinx()\n",
    "\n",
    "    handles = []\n",
    "\n",
    "    for label, data, ls in zip(\n",
    "        [\"JULES FAPAR\", \"OBS FAPAR\", \"JULES LAI\", \"OBS LAI\"],\n",
    "        [\n",
    "            get_climatology_cube(dummy_lat_lon_cube(fapar_2d)).data,\n",
    "            ref_fapar_cube_2d.data,\n",
    "            get_climatology_cube(dummy_lat_lon_cube(lai_2d)).data,\n",
    "            ref_lai_cube_2d.data,\n",
    "        ],\n",
    "        [\"--\", \"-\", \"--\", \"-\"],\n",
    "    ):\n",
    "        mask = match_shape(n96e_regions.data == region, data.shape)\n",
    "        plot_data = data.copy()\n",
    "        plot_data.mask |= ~mask\n",
    "        if \"FAPAR\" in label:\n",
    "            plot_ax = ax\n",
    "            plot_ax.set_ylabel(\"FAPAR\")\n",
    "            color = \"C0\"\n",
    "            alpha = 1.0\n",
    "            zorder = 2\n",
    "        elif \"LAI\" in label:\n",
    "            plot_ax = ax2\n",
    "            plot_ax.set_ylabel(\"LAI\")\n",
    "            color = \"C1\"\n",
    "            alpha = 0.7\n",
    "            zorder = 1\n",
    "\n",
    "        handles.append(\n",
    "            plot_ax.errorbar(\n",
    "                x=np.arange(1, plot_data.shape[0] + 1),\n",
    "                y=np.mean(plot_data, axis=(1, 2)),\n",
    "                yerr=np.std(plot_data, axis=(1, 2)),\n",
    "                capsize=4,\n",
    "                label=label,\n",
    "                linestyle=ls,\n",
    "                color=color,\n",
    "                alpha=alpha,\n",
    "                zorder=zorder,\n",
    "            )\n",
    "        )\n",
    "    ax.legend(handles=handles, ncol=1, bbox_to_anchor=(1.1, 1.12), loc=\"upper left\")\n",
    "    ax.set_xlabel(\"month\")"
   ]
  }
 ],
 "metadata": {
  "kernelspec": {
   "display_name": "Python [conda env:wildfires] *",
   "language": "python",
   "name": "conda-env-wildfires-py"
  }
 },
 "nbformat": 4,
 "nbformat_minor": 4
}
