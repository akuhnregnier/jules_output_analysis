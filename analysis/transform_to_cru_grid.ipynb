{
 "cells": [
  {
   "cell_type": "code",
   "execution_count": null,
   "metadata": {},
   "outputs": [],
   "source": [
    "from pathlib import Path"
   ]
  },
  {
   "cell_type": "code",
   "execution_count": null,
   "metadata": {},
   "outputs": [],
   "source": [
    "import iris\n",
    "from wildfires.analysis import cube_plotting\n",
    "from wildfires.data import DATA_DIR, HYDE, WWLLN, Datasets"
   ]
  },
  {
   "cell_type": "markdown",
   "metadata": {},
   "source": [
    "### Load a cube containing the reference grid"
   ]
  },
  {
   "cell_type": "code",
   "execution_count": null,
   "metadata": {},
   "outputs": [],
   "source": [
    "def ensure_bounds(cube):\n",
    "    for coord in (\"latitude\", \"longitude\"):\n",
    "        if not cube.coord(coord).has_bounds():\n",
    "            cube.coord(coord).guess_bounds()"
   ]
  },
  {
   "cell_type": "code",
   "execution_count": null,
   "metadata": {},
   "outputs": [],
   "source": [
    "ref_cube = iris.load_cube(\n",
    "    \"/gws/nopw/j04/jules/data/Ancillary/n96e/GL7/fixed/CRU-NCEPv7.landfrac.nc\"\n",
    ")\n",
    "ensure_bounds(ref_cube)"
   ]
  },
  {
   "cell_type": "markdown",
   "metadata": {},
   "source": [
    "#### Regridding scheme"
   ]
  },
  {
   "cell_type": "code",
   "execution_count": null,
   "metadata": {},
   "outputs": [],
   "source": [
    "scheme = iris.analysis.AreaWeighted(mdtol=1)"
   ]
  },
  {
   "cell_type": "markdown",
   "metadata": {},
   "source": [
    "#### Use mean state for popd."
   ]
  },
  {
   "cell_type": "code",
   "execution_count": null,
   "metadata": {},
   "outputs": [],
   "source": [
    "hyde = Datasets(HYDE()).select_variables(\"popd\").dataset.get_mean_dataset()\n",
    "ensure_bounds(hyde.cube)\n",
    "hyde_reg_cube = hyde.cube.regrid(ref_cube, scheme)\n",
    "# Add single time coordinate.\n",
    "hyde_reg_cube_time = iris.cube.Cube(\n",
    "    hyde_reg_cube.data[None],\n",
    "    dim_coords_and_dims=[\n",
    "        (\n",
    "            iris.coords.DimCoord(\n",
    "                [0], units=\"days since 2000-01-01\", standard_name=\"time\"\n",
    "            ),\n",
    "            0,\n",
    "        ),\n",
    "        (hyde_reg_cube.coord(\"latitude\"), 1),\n",
    "        (hyde_reg_cube.coord(\"longitude\"), 2),\n",
    "    ],\n",
    ")\n",
    "hyde_reg_cube_time.metadata = hyde_reg_cube.metadata\n",
    "hyde_reg_cube_time"
   ]
  },
  {
   "cell_type": "markdown",
   "metadata": {},
   "source": [
    "#### Use climatology for lightning."
   ]
  },
  {
   "cell_type": "code",
   "execution_count": null,
   "metadata": {},
   "outputs": [],
   "source": [
    "wwlln = WWLLN()\n",
    "ensure_bounds(wwlln.cube)\n",
    "wwlln_clim = wwlln.get_climatology_dataset(wwlln.min_time, wwlln.max_time)\n",
    "wwlln_reg_cube = wwlln_clim.cube.regrid(ref_cube, scheme)\n",
    "# Ensure the temporal coordinate is called 'time' and not 'month_number'.\n",
    "wwlln_reg_cube.remove_coord(\"time\")\n",
    "temporal_coord = wwlln_reg_cube.coord(\"month_number\")\n",
    "temporal_coord.standard_name = \"time\"\n",
    "temporal_coord.long_name = None\n",
    "temporal_coord.var_name = None\n",
    "wwlln_reg_cube"
   ]
  },
  {
   "cell_type": "markdown",
   "metadata": {},
   "source": [
    "#### Write the modified files to disk"
   ]
  },
  {
   "cell_type": "code",
   "execution_count": null,
   "metadata": {},
   "outputs": [],
   "source": [
    "target_dir = Path(DATA_DIR) / \"n96e_data\"\n",
    "target_dir.mkdir(exist_ok=True)"
   ]
  },
  {
   "cell_type": "code",
   "execution_count": null,
   "metadata": {},
   "outputs": [],
   "source": [
    "iris.save(hyde_reg_cube_time, str(target_dir / \"hyde_mean_n96e.nc\"))"
   ]
  },
  {
   "cell_type": "code",
   "execution_count": null,
   "metadata": {},
   "outputs": [],
   "source": [
    "iris.save(wwlln_reg_cube, str(target_dir / \"wwlln_clim_n96e.nc\"))"
   ]
  },
  {
   "cell_type": "code",
   "execution_count": null,
   "metadata": {},
   "outputs": [],
   "source": [
    "fig = cube_plotting(hyde_reg_cube, fig=plt.figure(figsize=(6.2, 3), dpi=130))"
   ]
  },
  {
   "cell_type": "code",
   "execution_count": null,
   "metadata": {},
   "outputs": [],
   "source": [
    "fig = cube_plotting(wwlln_reg_cube, fig=plt.figure(figsize=(6.2, 3), dpi=130))"
   ]
  },
  {
   "cell_type": "code",
   "execution_count": null,
   "metadata": {},
   "outputs": [],
   "source": [
    "hyde_reg_cube.data.mask.sum(), wwlln_reg_cube.data.mask.sum()"
   ]
  }
 ],
 "metadata": {
  "kernelspec": {
   "display_name": "Python [conda env:wildfires] *",
   "language": "python",
   "name": "conda-env-wildfires-py"
  }
 },
 "nbformat": 4,
 "nbformat_minor": 4
}
