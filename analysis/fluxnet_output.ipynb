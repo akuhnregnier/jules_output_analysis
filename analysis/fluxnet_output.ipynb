{
 "cells": [
  {
   "cell_type": "code",
   "execution_count": null,
   "metadata": {},
   "outputs": [],
   "source": [
    "import re"
   ]
  },
  {
   "cell_type": "code",
   "execution_count": null,
   "metadata": {},
   "outputs": [],
   "source": [
    "from pathlib import Path\n",
    "\n",
    "import iris\n",
    "import matplotlib.pyplot as plt\n",
    "from wildfires.data import homogenise_time_coordinate"
   ]
  },
  {
   "cell_type": "code",
   "execution_count": null,
   "metadata": {},
   "outputs": [],
   "source": [
    "data_dir = Path(\"/work/scratch-nopw/alexkr/fluxnet/run11a/jules_output\")\n",
    "cube_files = sorted(list(data_dir.glob(\"*.D.*.nc\")))\n",
    "cube_files"
   ]
  },
  {
   "cell_type": "code",
   "execution_count": null,
   "metadata": {},
   "outputs": [],
   "source": [
    "def add_location_callback(cube, field, filename):\n",
    "    \"\"\"Add the location from the filename as a Cube attribute.\"\"\"\n",
    "    cube.attributes[\"location\"] = re.match(\n",
    "        \"^(.*)-JULES\", str(Path(filename).name)\n",
    "    ).group(1)"
   ]
  },
  {
   "cell_type": "code",
   "execution_count": null,
   "metadata": {},
   "outputs": [],
   "source": [
    "raw_cubes = iris.load(map(str, cube_files), callback=add_location_callback)"
   ]
  },
  {
   "cell_type": "code",
   "execution_count": null,
   "metadata": {},
   "outputs": [],
   "source": [
    "raw_cubes = homogenise_time_coordinate(raw_cubes).concatenate()"
   ]
  },
  {
   "cell_type": "markdown",
   "metadata": {},
   "source": [
    "#### Get variable names"
   ]
  },
  {
   "cell_type": "code",
   "execution_count": null,
   "metadata": {},
   "outputs": [],
   "source": [
    "variable_names = sorted({cube.name() for cube in raw_cubes})\n",
    "len(variable_names), variable_names"
   ]
  },
  {
   "cell_type": "code",
   "execution_count": null,
   "metadata": {},
   "outputs": [],
   "source": [
    "locations = sorted({cube.attributes[\"location\"] for cube in raw_cubes})\n",
    "len(locations), locations"
   ]
  },
  {
   "cell_type": "code",
   "execution_count": null,
   "metadata": {},
   "outputs": [],
   "source": [
    "# raw_cubes.extract(iris.AttributeConstraint(location=raw_cubes[0].attributes['location']))"
   ]
  },
  {
   "cell_type": "code",
   "execution_count": null,
   "metadata": {},
   "outputs": [],
   "source": [
    "cube.shape"
   ]
  },
  {
   "cell_type": "code",
   "execution_count": null,
   "metadata": {},
   "outputs": [],
   "source": [
    "variables = [\n",
    "    \"Gridbox net primary production prior to N limitation\",\n",
    "    \"Gridbox gross primary productivity\",\n",
    "    \"PFT leaf area index\",\n",
    "]\n",
    "\n",
    "for location in locations:\n",
    "    scubes = raw_cubes.extract(iris.AttributeConstraint(location=location))\n",
    "    fig, ax = plt.subplots(figsize=(7, 3), dpi=180)\n",
    "    fig.suptitle(location)\n",
    "    lines = []\n",
    "    for var, c in zip(variables, [\"C0\", \"C1\", \"C2\"]):\n",
    "        ecubes = scubes.extract(iris.Constraint(name=var))\n",
    "        if not ecubes:\n",
    "            continue\n",
    "\n",
    "        cube = ecubes[0]\n",
    "        if cube.shape[1] == 9:\n",
    "            ax2 = ax.twinx()\n",
    "            # Loop over PFTs\n",
    "            for i in range(9):\n",
    "                line = ax2.plot(\n",
    "                    cube.data[:, i].ravel(), label=var, c=c, ls=\"--\", alpha=0.8\n",
    "                )[0]\n",
    "                if not i:\n",
    "                    lines.append(line)\n",
    "        else:\n",
    "            lines.append(ax.plot(cube.data.ravel(), label=var, c=c)[0])\n",
    "    ax.legend(\n",
    "        lines,\n",
    "        [l.get_label() for l in lines],\n",
    "        loc=\"lower left\",\n",
    "        bbox_to_anchor=(0.58, 1),\n",
    "    )"
   ]
  }
 ],
 "metadata": {
  "kernelspec": {
   "display_name": "Python [conda env:wildfires] *",
   "language": "python",
   "name": "conda-env-wildfires-py"
  }
 },
 "nbformat": 4,
 "nbformat_minor": 4
}
