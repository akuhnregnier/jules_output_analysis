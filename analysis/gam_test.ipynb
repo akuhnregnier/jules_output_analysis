{
 "cells": [
  {
   "cell_type": "code",
   "execution_count": null,
   "metadata": {},
   "outputs": [],
   "source": [
    "from functools import reduce\n",
    "from operator import add"
   ]
  },
  {
   "cell_type": "code",
   "execution_count": null,
   "metadata": {},
   "outputs": [],
   "source": [
    "from pathlib import Path\n",
    "from warnings import filterwarnings\n",
    "\n",
    "import iris\n",
    "import matplotlib.pyplot as plt\n",
    "import numpy as np\n",
    "import pandas as pd\n",
    "from jules_output_analysis.utils import cube_1d_to_2d\n",
    "from pygam import LinearGAM, s\n",
    "from tqdm import tqdm\n",
    "from tqdm.auto import tqdm\n",
    "from wildfires.analysis import cube_plotting\n",
    "from wildfires.data import homogenise_time_coordinate\n",
    "from wildfires.utils import reorder_cube_coord\n",
    "\n",
    "filterwarnings(\"ignore\", \".*divide by zero.*\")"
   ]
  },
  {
   "cell_type": "code",
   "execution_count": null,
   "metadata": {},
   "outputs": [],
   "source": [
    "def get_climatologies(scubes):\n",
    "    ccubes = iris.cube.CubeList()\n",
    "    for cube in tqdm(scubes):\n",
    "        if not cube.coords(\"month_number\"):\n",
    "            iris.coord_categorisation.add_month_number(cube, \"time\")\n",
    "        ccube = cube.aggregated_by(\"month_number\", iris.analysis.MEAN)\n",
    "\n",
    "        sort_indices = np.argsort(ccube.coord(\"month_number\").points)\n",
    "        if not np.all(sort_indices == np.arange(len(sort_indices))):\n",
    "            # Reorder cubes to let month numbers increase monotonically if needed.\n",
    "            ccube = reorder_cube_coord(\n",
    "                ccube, sort_indices, name=\"month_number\", promote=True\n",
    "            )\n",
    "        ccubes.append(ccube)\n",
    "    return ccubes"
   ]
  },
  {
   "cell_type": "code",
   "execution_count": null,
   "metadata": {},
   "outputs": [],
   "source": [
    "source_dir = Path(\"~/JULES_output/jules_output5\").expanduser()\n",
    "assert source_dir.is_dir()"
   ]
  },
  {
   "cell_type": "code",
   "execution_count": null,
   "metadata": {},
   "outputs": [],
   "source": [
    "cubes = homogenise_time_coordinate(\n",
    "    iris.load(str(source_dir / \"*Monthly*.nc\"))\n",
    ").concatenate()"
   ]
  },
  {
   "cell_type": "code",
   "execution_count": null,
   "metadata": {},
   "outputs": [],
   "source": [
    "cubes"
   ]
  },
  {
   "cell_type": "code",
   "execution_count": null,
   "metadata": {},
   "outputs": [],
   "source": [
    "[cube.name() for cube in cubes]"
   ]
  },
  {
   "cell_type": "code",
   "execution_count": null,
   "metadata": {},
   "outputs": [],
   "source": [
    "names = [\n",
    "    \"Gridbox mean burnt area fraction\",\n",
    "    \"Gridbox precipitation rate\",\n",
    "    \"Gridbox effective radiative temperature (assuming emissivity=1)\",\n",
    "    \"C in decomposable plant material, gridbox total\",\n",
    "    \"Gridbox Absorbed Photosynthetically Active Radiation\",\n",
    "    \"Gridbox leaf area index\",\n",
    "    \"Gridbox unfrozen soil moisture as fraction of saturation\",\n",
    "]\n",
    "scubes = cubes.extract(iris.Constraint(cube_func=lambda cube: cube.name() in names))\n",
    "assert len(names) == len(scubes), scubes\n",
    "ccubes = get_climatologies(scubes)\n",
    "ccubes"
   ]
  },
  {
   "cell_type": "code",
   "execution_count": null,
   "metadata": {},
   "outputs": [],
   "source": [
    "for cube in ccubes:\n",
    "    pdata = cube[:, 0, 100].data\n",
    "    plt.plot(pdata / np.max(pdata), label=cube.var_name)\n",
    "_ = plt.legend()"
   ]
  },
  {
   "cell_type": "code",
   "execution_count": null,
   "metadata": {},
   "outputs": [],
   "source": [
    "cube_2d = cube_1d_to_2d(ccubes[0], temporal_dim=\"month_number\")\n",
    "cube_2d"
   ]
  },
  {
   "cell_type": "code",
   "execution_count": null,
   "metadata": {},
   "outputs": [],
   "source": [
    "from wildfires.data import GFEDv4, regrid\n",
    "\n",
    "gfed = GFEDv4()\n",
    "gfed_clim = gfed.get_climatology_dataset(gfed.min_time, gfed.max_time)\n",
    "\n",
    "gfed_clim_cube = regrid(\n",
    "    gfed_clim.cube,\n",
    "    new_latitudes=cube_2d.coord(\"latitude\"),\n",
    "    new_longitudes=cube_2d.coord(\"longitude\"),\n",
    ")\n",
    "gfed_clim_cube"
   ]
  },
  {
   "cell_type": "code",
   "execution_count": null,
   "metadata": {},
   "outputs": [],
   "source": [
    "gfed_clim_cube_1d = ccubes.extract_strict(\"Gridbox mean burnt area fraction\").copy(\n",
    "    data=gfed_clim_cube.data.data[~cube_2d.data.mask].reshape(12, 1, -1)\n",
    ")\n",
    "gfed_clim_cube_1d.metadata = gfed_clim_cube.metadata\n",
    "gfed_clim_cube_1d"
   ]
  },
  {
   "cell_type": "code",
   "execution_count": null,
   "metadata": {},
   "outputs": [],
   "source": [
    "lims = np.array([0, 0.001, 0.01, 0.02, 0.05, 0.08])\n",
    "figsize = (10, 4)\n",
    "_ = cube_plotting(\n",
    "    cube_1d_to_2d(\n",
    "        ccubes.extract_strict(\"Gridbox mean burnt area fraction\"),\n",
    "        temporal_dim=\"month_number\",\n",
    "    ),\n",
    "    boundaries=lims / 8e6,\n",
    "    fig=plt.figure(figsize=figsize),\n",
    ")\n",
    "_ = cube_plotting(\n",
    "    cube_1d_to_2d(gfed_clim_cube_1d, temporal_dim=\"month_number\"),\n",
    "    boundaries=lims,\n",
    "    fig=plt.figure(figsize=figsize),\n",
    ")"
   ]
  },
  {
   "cell_type": "code",
   "execution_count": null,
   "metadata": {},
   "outputs": [],
   "source": [
    "def proc_names(names):\n",
    "    scubes = cubes.extract(iris.Constraint(cube_func=lambda cube: cube.name() in names))\n",
    "    assert len(names) == len(scubes), scubes\n",
    "    ccubes = get_climatologies(scubes)\n",
    "    return ccubes"
   ]
  },
  {
   "cell_type": "code",
   "execution_count": null,
   "metadata": {},
   "outputs": [],
   "source": [
    "ba_inferno_y_cube = proc_names([\"Gridbox mean burnt area fraction\"])[0]\n",
    "gfed_y_cube = gfed_clim_cube_1d"
   ]
  },
  {
   "cell_type": "code",
   "execution_count": null,
   "metadata": {},
   "outputs": [],
   "source": [
    "ba_inferno_y = pd.Series(\n",
    "    ba_inferno_y_cube.data.data.ravel(), name=ba_inferno_y_cube.name()\n",
    ")\n",
    "gfed_y = pd.Series(gfed_y_cube.data.ravel(), name=gfed_y_cube.name())"
   ]
  },
  {
   "cell_type": "code",
   "execution_count": null,
   "metadata": {},
   "outputs": [],
   "source": [
    "names = [\n",
    "    \"Gridbox precipitation rate\",\n",
    "    \"Gridbox unfrozen soil moisture as fraction of saturation\",\n",
    "    \"Gridbox effective radiative temperature (assuming emissivity=1)\",\n",
    "    \"C in decomposable plant material, gridbox total\",\n",
    "    \"Gridbox Absorbed Photosynthetically Active Radiation\",\n",
    "    #     \"Gridbox leaf area index\",\n",
    "]\n",
    "X_cubes = proc_names(names)\n",
    "X = pd.DataFrame(\n",
    "    np.hstack([cube.data.data.ravel().reshape(-1, 1) for cube in X_cubes]),\n",
    "    columns=[cube.name() for cube in X_cubes],\n",
    ")\n",
    "X"
   ]
  },
  {
   "cell_type": "code",
   "execution_count": null,
   "metadata": {},
   "outputs": [],
   "source": [
    "gam = LinearGAM(reduce(add, (s(i) for i in range(X.shape[1])))).fit(X, ba_inferno_y)\n",
    "\n",
    "gam.summary()\n",
    "\n",
    "for i, term in enumerate(gam.terms):\n",
    "    if term.isintercept:\n",
    "        continue\n",
    "\n",
    "    XX = gam.generate_X_grid(term=i)\n",
    "    pdep, confi = gam.partial_dependence(term=i, X=XX, width=0.95)\n",
    "\n",
    "    plt.figure()\n",
    "    plt.plot(XX[:, term.feature], pdep)\n",
    "    plt.plot(XX[:, term.feature], confi, c=\"r\", ls=\"--\")\n",
    "    plt.title(X.columns[i])\n",
    "    plt.show()"
   ]
  },
  {
   "cell_type": "code",
   "execution_count": null,
   "metadata": {},
   "outputs": [],
   "source": [
    "gam = LinearGAM(reduce(add, (s(i) for i in range(X.shape[1])))).fit(X, gfed_y)\n",
    "\n",
    "gam.summary()\n",
    "\n",
    "for i, term in enumerate(gam.terms):\n",
    "    if term.isintercept:\n",
    "        continue\n",
    "\n",
    "    XX = gam.generate_X_grid(term=i)\n",
    "    pdep, confi = gam.partial_dependence(term=i, X=XX, width=0.95)\n",
    "\n",
    "    plt.figure()\n",
    "    plt.plot(XX[:, term.feature], pdep)\n",
    "    plt.plot(XX[:, term.feature], confi, c=\"r\", ls=\"--\")\n",
    "    plt.title(X.columns[i])\n",
    "    plt.show()"
   ]
  }
 ],
 "metadata": {
  "kernelspec": {
   "display_name": "Python [conda env:wildfires] *",
   "language": "python",
   "name": "conda-env-wildfires-py"
  }
 },
 "nbformat": 4,
 "nbformat_minor": 4
}
