{
 "cells": [
  {
   "cell_type": "code",
   "execution_count": null,
   "metadata": {},
   "outputs": [],
   "source": [
    "from pathlib import Path\n",
    "from string import ascii_lowercase\n",
    "from warnings import filterwarnings\n",
    "\n",
    "import iris\n",
    "import matplotlib.pyplot as plt\n",
    "from IPython.core.display import HTML, display\n",
    "from wildfires.analysis import cube_plotting\n",
    "\n",
    "from jules_output_analysis.utils import cube_1d_to_2d\n",
    "\n",
    "filterwarnings(\"ignore\", \".*divide by zero.*\")"
   ]
  },
  {
   "cell_type": "code",
   "execution_count": null,
   "metadata": {},
   "outputs": [],
   "source": [
    "# source_dir = Path(\"/work/scratch-nopw/alexkr/multi_spinup4/jules_output\")\n",
    "source_dir = Path(\"/work/scratch-nopw/alexkr/newrun\")\n",
    "assert source_dir.is_dir()"
   ]
  },
  {
   "cell_type": "code",
   "execution_count": null,
   "metadata": {},
   "outputs": [],
   "source": [
    "initial_cube"
   ]
  },
  {
   "cell_type": "code",
   "execution_count": null,
   "metadata": {},
   "outputs": [],
   "source": [
    "# cube = homogenise_time_coordinate(\n",
    "#     iris.load(\n",
    "#         str(source_dir / \"*SPINUP5*Monthly*.nc\"),\n",
    "#         constraints=\"Fractional cover of each surface type\",\n",
    "#     )\n",
    "# ).concatenate_cube()\n",
    "\n",
    "\n",
    "cubes = iris.load(\n",
    "    str(\n",
    "        source_dir / \"JULES-ES.1p0.vn5.4.50.CRUJRA1.365.HYDE33.SPINUP0.Monthly.2000.nc\"\n",
    "    ),\n",
    "    constraints=\"Fractional cover of each surface type\",\n",
    ")\n",
    "assert len(cubes) == 1\n",
    "cube = cubes[0]\n",
    "\n",
    "cube_2d = cube_1d_to_2d(cube[:, :, 0, :])\n",
    "display(HTML(cube._repr_html_()))\n",
    "display(HTML(cube_2d._repr_html_()))"
   ]
  },
  {
   "cell_type": "code",
   "execution_count": null,
   "metadata": {},
   "outputs": [],
   "source": [
    "initial_cube"
   ]
  },
  {
   "cell_type": "code",
   "execution_count": null,
   "metadata": {},
   "outputs": [],
   "source": [
    "initial_cubes = iris.load(\n",
    "    str(\n",
    "        source_dir\n",
    "        / \"JULES-ES.1p0.vn5.4.50.CRUJRA1.365.HYDE33.SPINUP0.dump.20000101.0.nc\"\n",
    "    ),\n",
    "    constraints=\"frac\",\n",
    ")\n",
    "assert len(initial_cubes) == 1\n",
    "initial_cube = initial_cubes[0]\n",
    "\n",
    "initial_cube_2d = cube_1d_to_2d(\n",
    "    initial_cube,\n",
    "    latitudes=cube.coord(\"latitude\").points,\n",
    "    longitudes=cube.coord(\"longitude\").points,\n",
    ")\n",
    "initial_cube_2d"
   ]
  },
  {
   "cell_type": "code",
   "execution_count": null,
   "metadata": {},
   "outputs": [],
   "source": [
    "# for pft_i, pft_name in enumerate([\"BT\", \"NT\", \"C3\", \"C4\", \"SH\"]):\n",
    "#     fig = cube_plotting(\n",
    "#         cube_2d[:, pft_i],\n",
    "#         title=f\"Mean Coverage of {pft_name}\",\n",
    "#         fig=plt.figure(figsize=(6.2, 3), dpi=130),\n",
    "#     )\n",
    "\n",
    "for pft_i, pft_name in enumerate(ascii_lowercase[: cube_2d.shape[1]]):\n",
    "    fig = cube_plotting(\n",
    "        cube_2d[:, pft_i],\n",
    "        # initial_cube_2d[pft_i] - cube_2d[11, pft_i],\n",
    "        title=f\"Mean Coverage of {pft_name}\",\n",
    "        fig=plt.figure(figsize=(6.2, 3), dpi=130),\n",
    "        boundaries=np.linspace(0, 1, 11),\n",
    "        cmap=\"viridis\",\n",
    "    )"
   ]
  },
  {
   "cell_type": "code",
   "execution_count": null,
   "metadata": {},
   "outputs": [],
   "source": [
    "# for pft_i, pft_name in enumerate([\"BT\", \"NT\", \"C3\", \"C4\", \"SH\"]):\n",
    "#     fig = cube_plotting(\n",
    "#         cube_2d[:, pft_i],\n",
    "#         title=f\"Mean Coverage of {pft_name}\",\n",
    "#         fig=plt.figure(figsize=(6.2, 3), dpi=130),\n",
    "#     )\n",
    "\n",
    "for pft_i, pft_name in enumerate(ascii_lowercase[: cube_2d.shape[1]]):\n",
    "    fig = cube_plotting(\n",
    "        cube_2d[0, pft_i] - cube_2d[11, pft_i],\n",
    "        # initial_cube_2d[pft_i] - cube_2d[11, pft_i],\n",
    "        title=f\"Mean Coverage Change of {pft_name}\",\n",
    "        fig=plt.figure(figsize=(6.2, 3), dpi=130),\n",
    "        boundaries=[-1, -0.5, -0.1, -0.01, 0, 0.01, 0.1, 0.5, 1],\n",
    "        cmap=\"RdBu\",\n",
    "        cmap_midpoint=0,\n",
    "    )"
   ]
  },
  {
   "cell_type": "code",
   "execution_count": null,
   "metadata": {},
   "outputs": [],
   "source": [
    "# for pft_i, pft_name in enumerate([\"BT\", \"NT\", \"C3\", \"C4\", \"SH\"]):\n",
    "#     fig = cube_plotting(\n",
    "#         cube_2d[:, pft_i],\n",
    "#         title=f\"Mean Coverage of {pft_name}\",\n",
    "#         fig=plt.figure(figsize=(6.2, 3), dpi=130),\n",
    "#     )\n",
    "from string import ascii_lowercase\n",
    "\n",
    "for pft_i, pft_name in enumerate(ascii_lowercase[: cube_2d.shape[1]]):\n",
    "    fig = cube_plotting(\n",
    "        # cube_2d[0, pft_i] - cube_2d[11, pft_i],\n",
    "        initial_cube_2d[pft_i] - cube_2d[0, pft_i],\n",
    "        title=f\"Mean Coverage Change of {pft_name}\",\n",
    "        fig=plt.figure(figsize=(6.2, 3), dpi=130),\n",
    "        boundaries=[-1, -0.5, -0.1, -0.01, 0, 0.01, 0.1, 0.5, 1],\n",
    "        cmap=\"RdBu\",\n",
    "        cmap_midpoint=0,\n",
    "    )"
   ]
  },
  {
   "cell_type": "code",
   "execution_count": null,
   "metadata": {},
   "outputs": [],
   "source": [
    "cube_2d[0, 0].data.mask.sum()"
   ]
  }
 ],
 "metadata": {
  "kernelspec": {
   "display_name": "Python [conda env:wildfires] *",
   "language": "python",
   "name": "conda-env-wildfires-py"
  }
 },
 "nbformat": 4,
 "nbformat_minor": 4
}
