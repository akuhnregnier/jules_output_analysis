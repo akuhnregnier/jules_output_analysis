{
 "cells": [
  {
   "cell_type": "code",
   "execution_count": null,
   "metadata": {},
   "outputs": [],
   "source": [
    "from pathlib import Path\n",
    "from warnings import filterwarnings\n",
    "\n",
    "import iris\n",
    "import matplotlib.pyplot as plt\n",
    "from wildfires.analysis import cube_plotting\n",
    "from wildfires.data import homogenise_time_coordinate\n",
    "\n",
    "from jules_output_analysis.utils import cube_1d_to_2d\n",
    "\n",
    "filterwarnings(\"ignore\", \".*divide by zero.*\")"
   ]
  },
  {
   "cell_type": "code",
   "execution_count": null,
   "metadata": {},
   "outputs": [],
   "source": [
    "source_dir = Path(\"/work/scratch-nopw/alexkr/multi_spinup4/jules_output\")\n",
    "assert source_dir.is_dir()"
   ]
  },
  {
   "cell_type": "code",
   "execution_count": null,
   "metadata": {},
   "outputs": [],
   "source": [
    "cube = homogenise_time_coordinate(\n",
    "    iris.load(\n",
    "        str(source_dir / \"*SPINUP5*Monthly*.nc\"),\n",
    "        constraints=\"Fractional cover of each surface type\",\n",
    "    )\n",
    ").concatenate_cube()\n",
    "\n",
    "cube_2d = cube_1d_to_2d(cube)\n",
    "cube_2d"
   ]
  },
  {
   "cell_type": "code",
   "execution_count": null,
   "metadata": {},
   "outputs": [],
   "source": [
    "for pft_i, pft_name in enumerate([\"BT\", \"NT\", \"C3\", \"C4\", \"SH\"]):\n",
    "    fig = cube_plotting(\n",
    "        cube_2d[:, pft_i],\n",
    "        title=f\"Mean Coverage of {pft_name}\",\n",
    "        fig=plt.figure(figsize=(6.2, 3), dpi=130),\n",
    "    )"
   ]
  },
  {
   "cell_type": "code",
   "execution_count": null,
   "metadata": {},
   "outputs": [],
   "source": [
    "cube_2d[0, 0].data.mask.sum()"
   ]
  }
 ],
 "metadata": {
  "kernelspec": {
   "display_name": "Python [conda env:wildfires] *",
   "language": "python",
   "name": "conda-env-wildfires-py"
  }
 },
 "nbformat": 4,
 "nbformat_minor": 4
}
