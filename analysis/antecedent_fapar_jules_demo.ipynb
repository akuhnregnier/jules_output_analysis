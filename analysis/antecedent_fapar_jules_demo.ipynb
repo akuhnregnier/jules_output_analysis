{
 "cells": [
  {
   "cell_type": "code",
   "execution_count": null,
   "metadata": {},
   "outputs": [],
   "source": [
    "from pathlib import Path\n",
    "\n",
    "import iris\n",
    "import matplotlib.pyplot as plt"
   ]
  },
  {
   "cell_type": "code",
   "execution_count": null,
   "metadata": {},
   "outputs": [],
   "source": [
    "%config InlineBackend.print_figure_kwargs={'facecolor' : \"w\"}"
   ]
  },
  {
   "cell_type": "code",
   "execution_count": null,
   "metadata": {},
   "outputs": [],
   "source": [
    "DATA_DIR = Path(\"/work/scratch-nopw/alexkr/antecedent2/jules_output/\")"
   ]
  },
  {
   "cell_type": "code",
   "execution_count": null,
   "metadata": {},
   "outputs": [],
   "source": [
    "list(DATA_DIR.glob(\"*\"))"
   ]
  },
  {
   "cell_type": "code",
   "execution_count": null,
   "metadata": {},
   "outputs": [],
   "source": [
    "cubes = iris.load(list(map(str, DATA_DIR.glob(\"*Monthly*.nc\"))))\n",
    "# cubes"
   ]
  },
  {
   "cell_type": "code",
   "execution_count": null,
   "metadata": {},
   "outputs": [],
   "source": [
    "antec = cubes.extract_strict(iris.Constraint(\"PFT fuel build up\"))\n",
    "antec"
   ]
  },
  {
   "cell_type": "code",
   "execution_count": null,
   "metadata": {},
   "outputs": [],
   "source": [
    "fapar = cubes.extract_strict(\n",
    "    iris.Constraint(\"PFT Fraction of Absorbed Photosynthetically Active Radiation\")\n",
    ")\n",
    "fapar"
   ]
  },
  {
   "cell_type": "code",
   "execution_count": null,
   "metadata": {},
   "outputs": [],
   "source": [
    "land_pts = np.random.RandomState(0).choice(np.arange(antec.shape[3]), size=(20,))\n",
    "major = np.arange(0, antec.data.shape[0], 1)\n",
    "land_pt = land_pts[0]\n",
    "pfts = (\n",
    "    \"Broadleaf trees\",\n",
    "    \"Needleleaf trees\",\n",
    "    \"C3 (temperate) grass\",\n",
    "    \"C4 (tropical) grass\",\n",
    "    \"Shrubs\",\n",
    ")\n",
    "n_days = [10, 20, 30, 40, 50]\n",
    "assert len(pfts) == antec.shape[1]"
   ]
  },
  {
   "cell_type": "code",
   "execution_count": null,
   "metadata": {},
   "outputs": [],
   "source": [
    "fig, axes = plt.subplots(\n",
    "    5,\n",
    "    1,\n",
    "    figsize=(4, 12),\n",
    "    dpi=150,\n",
    "    constrained_layout=True,\n",
    ")\n",
    "for (pft_i, (ax, pft, n_day)) in enumerate(zip(axes.ravel(), pfts, n_days)):\n",
    "    ax.set_title(f\"{pft}, n_days: {n_day}\")\n",
    "    ax.plot(antec.data[:, pft_i, 0, land_pt], label=\"antec\")\n",
    "    ax.plot(fapar.data[:, pft_i, 0, land_pt], label=\"fapar\")\n",
    "    ax.set_xticks(major)\n",
    "    ax.legend()\n",
    "    ax.grid()"
   ]
  }
 ],
 "metadata": {
  "kernelspec": {
   "display_name": "Python [conda env:wildfires] *",
   "language": "python",
   "name": "conda-env-wildfires-py"
  }
 },
 "nbformat": 4,
 "nbformat_minor": 4
}
