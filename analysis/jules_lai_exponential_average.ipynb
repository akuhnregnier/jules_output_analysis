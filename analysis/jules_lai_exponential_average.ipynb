{
 "cells": [
  {
   "cell_type": "code",
   "execution_count": null,
   "metadata": {},
   "outputs": [],
   "source": [
    "from pathlib import Path\n",
    "\n",
    "import iris\n",
    "import matplotlib.pyplot as plt\n",
    "import numpy as np\n",
    "from utils import Alpha, Antecedent, Memory"
   ]
  },
  {
   "cell_type": "code",
   "execution_count": null,
   "metadata": {},
   "outputs": [],
   "source": [
    "lai = iris.load_cube(\n",
    "    str(\n",
    "        Path(\n",
    "            \"~/JULES_data/lai_Lmon_UKESM1-0-LL_esm-hist_r1i1p1f2_gn_195001-201412.nc\"\n",
    "        ).expanduser()\n",
    "    )\n",
    ")\n",
    "lai"
   ]
  },
  {
   "cell_type": "code",
   "execution_count": null,
   "metadata": {},
   "outputs": [],
   "source": [
    "lai.coord(\"time\").cell(0), lai.coord(\"time\").cell(1)"
   ]
  },
  {
   "cell_type": "code",
   "execution_count": null,
   "metadata": {},
   "outputs": [],
   "source": [
    "np.where(~lai.data.mask[0])"
   ]
  },
  {
   "cell_type": "code",
   "execution_count": null,
   "metadata": {},
   "outputs": [],
   "source": [
    "fig_kwargs = dict(figsize=(9, 6), dpi=150)"
   ]
  },
  {
   "cell_type": "code",
   "execution_count": null,
   "metadata": {},
   "outputs": [],
   "source": [
    "N = 24\n",
    "data = lai.data[:N, 27, 154]\n",
    "months = np.arange(1, N + 1)\n",
    "\n",
    "for alpha, antec, period in ([0.1, 2, 2], [0.3, 1, 1]):\n",
    "    alpha = Alpha(alpha, data)\n",
    "    antecedent = Antecedent(antec, data)\n",
    "    memory = Memory(data, period)\n",
    "    plt.figure(**fig_kwargs)\n",
    "    plt.plot(months, data, label=\"monthly data\")\n",
    "    plt.plot(months, alpha.weighted, label=fr\"$\\alpha = {{{alpha.alpha:0.3f}}}$\")\n",
    "    plt.plot(\n",
    "        months, antecedent.antec, label=f\"antec n={antecedent.antec_samples:d} month\"\n",
    "    )\n",
    "    plt.plot(\n",
    "        months, memory.data, label=f\"disc n={memory.period:d} month\", linestyle=\"--\"\n",
    "    )\n",
    "    plt.xlabel(\"months\")\n",
    "    plt.ylabel(\"LAI\")\n",
    "    plt.grid()\n",
    "    plt.title(\"Monthly Timestep\")\n",
    "    _ = plt.legend()"
   ]
  },
  {
   "cell_type": "code",
   "execution_count": null,
   "metadata": {},
   "outputs": [],
   "source": [
    "N = 24\n",
    "data = lai.data[:N, 27, 154]\n",
    "months = np.arange(1, N + 1)\n",
    "\n",
    "# Days, approximately.\n",
    "days = np.linspace(1, N, N * 30)\n",
    "\n",
    "daily_data = np.interp(days, months, data)\n",
    "\n",
    "for alpha, antec, period in ([0.004, 60, 60], [0.03, 30, 30]):\n",
    "    alpha = Alpha(alpha, daily_data)\n",
    "    antecedent = Antecedent(antec, daily_data)\n",
    "    memory = Memory(daily_data, period)\n",
    "    plt.figure(**fig_kwargs)\n",
    "    plt.plot(days, daily_data, label=\"daily data\")\n",
    "    plt.plot(days, alpha.weighted, label=fr\"$\\alpha = {{{alpha.alpha:0.3f}}}$\")\n",
    "    plt.plot(\n",
    "        days,\n",
    "        antecedent.antec,\n",
    "        label=f\"antec n={antecedent.antec_samples:d} \"\n",
    "        f\"days\\n({antecedent.antec_samples / 30:.1f} months)\",\n",
    "    )\n",
    "    plt.plot(\n",
    "        days,\n",
    "        memory.data,\n",
    "        label=f\"disc n={memory.period:d} days\\n\"\n",
    "        f\"({memory.period / 30 : 0.1f} months)\",\n",
    "        linestyle=\"--\",\n",
    "    )\n",
    "    plt.xlabel(\"months\")\n",
    "    plt.ylabel(\"LAI\")\n",
    "    plt.grid()\n",
    "    plt.title(\"Daily Timestep\")\n",
    "    _ = plt.legend()"
   ]
  }
 ],
 "metadata": {
  "kernelspec": {
   "display_name": "Python 3",
   "language": "python",
   "name": "python3"
  }
 },
 "nbformat": 4,
 "nbformat_minor": 4
}
