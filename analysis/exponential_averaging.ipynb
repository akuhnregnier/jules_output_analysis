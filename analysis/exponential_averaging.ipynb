{
 "cells": [
  {
   "cell_type": "code",
   "execution_count": null,
   "metadata": {},
   "outputs": [],
   "source": [
    "import matplotlib.pyplot as plt"
   ]
  },
  {
   "cell_type": "code",
   "execution_count": null,
   "metadata": {},
   "outputs": [],
   "source": [
    "import numpy as np\n",
    "from scipy.optimize import minimize\n",
    "from utils import Alpha, Antecedent"
   ]
  },
  {
   "cell_type": "code",
   "execution_count": null,
   "metadata": {},
   "outputs": [],
   "source": [
    "fig_kwargs = dict(figsize=(22, 4))"
   ]
  },
  {
   "cell_type": "code",
   "execution_count": null,
   "metadata": {},
   "outputs": [],
   "source": [
    "n_repeat = 4\n",
    "cycle_samples = 500\n",
    "data1 = np.sin(np.linspace(0, np.pi, cycle_samples))\n",
    "data = np.repeat(data1[None], n_repeat, axis=0).ravel()\n",
    "plt.figure(**fig_kwargs)\n",
    "_ = plt.plot(data)"
   ]
  },
  {
   "cell_type": "code",
   "execution_count": null,
   "metadata": {},
   "outputs": [],
   "source": [
    "def comp_plot(data, alpha_const, n_antec):\n",
    "    alpha = Alpha(alpha_const, data)\n",
    "\n",
    "    antecedent = Antecedent(n_antec, data)\n",
    "    plt.figure(**fig_kwargs)\n",
    "    plt.plot(data, label=\"data\")\n",
    "    plt.plot(alpha.weighted, label=fr\"$\\alpha = {{{alpha.alpha:0.5f}}}$\")\n",
    "    plt.plot(antecedent.antec, label=f\"antec n={antecedent.antec_samples:d}\")\n",
    "    plt.legend()\n",
    "\n",
    "\n",
    "comp_plot(data, 0.008, 8)"
   ]
  },
  {
   "cell_type": "code",
   "execution_count": null,
   "metadata": {},
   "outputs": [],
   "source": [
    "for i in range(0, 20, 4):\n",
    "    opt_alpha = minimize(\n",
    "        lambda alpha: np.linalg.norm(\n",
    "            Alpha(alpha, data).weighted - Antecedent(i, data).antec\n",
    "        ),\n",
    "        np.array([0.1]),\n",
    "    ).x[0]\n",
    "    print(i, opt_alpha)\n",
    "    comp_plot(data, opt_alpha, i)"
   ]
  },
  {
   "cell_type": "code",
   "execution_count": null,
   "metadata": {},
   "outputs": [],
   "source": [
    "comp_plot(data, 0.008, 160)"
   ]
  },
  {
   "cell_type": "code",
   "execution_count": null,
   "metadata": {},
   "outputs": [],
   "source": [
    "for i in range(0, 200, 40):\n",
    "    opt_alpha = minimize(\n",
    "        lambda alpha: np.linalg.norm(\n",
    "            Alpha(alpha, data).weighted - Antecedent(i, data).antec\n",
    "        ),\n",
    "        np.array([0.1]),\n",
    "    ).x[0]\n",
    "    print(i, opt_alpha)\n",
    "    comp_plot(data, opt_alpha, i)"
   ]
  },
  {
   "cell_type": "code",
   "execution_count": null,
   "metadata": {},
   "outputs": [],
   "source": [
    "n_days = 100\n",
    "timestep = 1\n",
    "rsec_per_day = 1\n",
    "\n",
    "alpha = 1.0 - np.exp(-1.0 * timestep / (n_days * rsec_per_day))\n",
    "comp_plot(data[:1000], alpha, n_days)"
   ]
  }
 ],
 "metadata": {
  "kernelspec": {
   "display_name": "Python 3",
   "language": "python",
   "name": "python3"
  }
 },
 "nbformat": 4,
 "nbformat_minor": 4
}
