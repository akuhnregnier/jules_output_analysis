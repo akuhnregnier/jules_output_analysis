{
 "cells": [
  {
   "cell_type": "markdown",
   "metadata": {},
   "source": [
    "### How much do WWLLN cloud-to-ground lightning strikes vary from year to year?\n",
    "\n",
    "from wildfires.data import WWLLN"
   ]
  },
  {
   "cell_type": "code",
   "execution_count": null,
   "metadata": {},
   "outputs": [],
   "source": [
    "from wildfires.utils import get_land_mask"
   ]
  },
  {
   "cell_type": "code",
   "execution_count": null,
   "metadata": {},
   "outputs": [],
   "source": [
    "for title, mask in zip((\"WWLLN\", \"WWLLN over Land\"), (None, ~get_land_mask(n_lon=720))):\n",
    "    if mask is not None:\n",
    "        wwlln = WWLLN().apply_masks(mask)\n",
    "    else:\n",
    "        wwlln = WWLLN()\n",
    "\n",
    "    # Compute climatology\n",
    "    wwlln_clim = wwlln.get_climatology_dataset(wwlln.min_time, wwlln.max_time)\n",
    "\n",
    "    # Compute deviations of the individual years from the climatology\n",
    "    n_years = wwlln.cube.shape[0] // 12\n",
    "\n",
    "    aggs = []\n",
    "    for i in range(n_years):\n",
    "        yearly_data = wwlln.cube.data[12 * i : 12 * (i + 1)]\n",
    "        diff = yearly_data - wwlln_clim.cube.data\n",
    "        aggs.append(np.mean(np.abs(diff)))\n",
    "\n",
    "    plt.figure()\n",
    "    plt.title(title)\n",
    "    plt.plot(np.arange(n_years) + wwlln.min_time.year, aggs)\n",
    "    plt.xlabel(\"Year\")\n",
    "    plt.ylabel(\"<|diff|>\")\n",
    "\n",
    "    wwlln_mean = wwlln.get_mean_dataset()\n",
    "    wwlln_mean, wwlln_mean.cube\n",
    "\n",
    "    from wildfires.analysis import cube_plotting\n",
    "\n",
    "    for i in range(n_years):\n",
    "        yearly_data = wwlln.cube.data[12 * i : 12 * (i + 1)]\n",
    "        diff = (\n",
    "            np.mean(100 * (yearly_data - wwlln_clim.cube.data), axis=0)\n",
    "            / wwlln_mean.cube.data\n",
    "        )\n",
    "        cube_plotting(\n",
    "            diff,\n",
    "            title=f\"{title}, {i + wwlln.min_time.year}\",\n",
    "            colorbar_kwargs=dict(label=\"<(yearly - clim) / mean> (%)\"),\n",
    "            fig=plt.figure(figsize=(7, 3.2), dpi=120),\n",
    "            vmin_vmax_percentiles=(5, 95),\n",
    "            cmap=\"bwr\",\n",
    "            cmap_midpoint=0,\n",
    "        )\n",
    "\n",
    "    from wildfires.analysis import cube_plotting\n",
    "\n",
    "    for i in range(n_years):\n",
    "        yearly_data = wwlln.cube.data[12 * i : 12 * (i + 1)]\n",
    "        diff = (\n",
    "            np.mean(100 * np.abs(yearly_data - wwlln_clim.cube.data), axis=0)\n",
    "            / wwlln_mean.cube.data\n",
    "        )\n",
    "        cube_plotting(\n",
    "            diff,\n",
    "            title=f\"{title}, {i + wwlln.min_time.year}\",\n",
    "            colorbar_kwargs=dict(label=\"<|yearly - clim| / mean> (%)\"),\n",
    "            fig=plt.figure(figsize=(7, 3.2), dpi=120),\n",
    "            vmin_vmax_percentiles=(2, 85),\n",
    "        )"
   ]
  }
 ],
 "metadata": {
  "kernelspec": {
   "display_name": "Python [conda env:wildfires] *",
   "language": "python",
   "name": "conda-env-wildfires-py"
  }
 },
 "nbformat": 4,
 "nbformat_minor": 4
}
