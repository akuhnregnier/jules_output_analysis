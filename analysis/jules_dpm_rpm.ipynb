{
 "cells": [
  {
   "cell_type": "code",
   "execution_count": null,
   "metadata": {},
   "outputs": [],
   "source": [
    "from pathlib import Path\n",
    "from warnings import filterwarnings\n",
    "\n",
    "import iris\n",
    "import matplotlib.pyplot as plt\n",
    "import numpy as np\n",
    "from wildfires.analysis import cube_plotting\n",
    "from wildfires.data import homogenise_time_coordinate\n",
    "\n",
    "from jules_output_analysis.utils import cube_1d_to_2d\n",
    "\n",
    "filterwarnings(\"ignore\", \".*divide by zero.*\")"
   ]
  },
  {
   "cell_type": "code",
   "execution_count": null,
   "metadata": {},
   "outputs": [],
   "source": [
    "source_dir = Path(\"/work/scratch-nopw/alexkr/multi_spinup4/jules_output\")\n",
    "assert source_dir.is_dir()"
   ]
  },
  {
   "cell_type": "code",
   "execution_count": null,
   "metadata": {},
   "outputs": [],
   "source": [
    "cubes_2d = []\n",
    "targets = (\"decomposable\", \"resistant\")\n",
    "for target in targets:\n",
    "    cube = homogenise_time_coordinate(\n",
    "        iris.load(\n",
    "            str(source_dir / \"*SPINUP5*Monthly*.nc\"),\n",
    "            constraints=f\"C in {target} plant material, gridbox total\",\n",
    "        )\n",
    "    ).concatenate_cube()\n",
    "\n",
    "    cube_2d = cube_1d_to_2d(cube)\n",
    "    cubes_2d.append(cube_2d)\n",
    "\n",
    "    avg_cube_2d = cube_2d.collapsed(\"time\", iris.analysis.MEAN)\n",
    "    max_cube_2d = cube_2d.collapsed(\"time\", iris.analysis.MAX)\n",
    "\n",
    "    fig = cube_plotting(avg_cube_2d, title=f\"{target} mean\")\n",
    "\n",
    "    fig = cube_plotting(max_cube_2d, title=f\"{target} max\")\n",
    "\n",
    "    std_cube_2d = avg_cube_2d.copy(data=np.std(cube_2d.data, axis=0))\n",
    "    std_cube_2d\n",
    "\n",
    "    fig = cube_plotting(std_cube_2d, title=f\"{target} std\")\n",
    "\n",
    "    fig = cube_plotting(std_cube_2d / avg_cube_2d, title=f\"{target} std / mean\")"
   ]
  },
  {
   "cell_type": "code",
   "execution_count": null,
   "metadata": {},
   "outputs": [],
   "source": [
    "ratio = cubes_2d[1] / cubes_2d[0]"
   ]
  },
  {
   "cell_type": "code",
   "execution_count": null,
   "metadata": {},
   "outputs": [],
   "source": [
    "mean_ratio = ratio.collapsed(\"time\", iris.analysis.MEAN)"
   ]
  },
  {
   "cell_type": "code",
   "execution_count": null,
   "metadata": {},
   "outputs": [],
   "source": [
    "data = mean_ratio.data.ravel()\n",
    "data = data[data < 200]\n",
    "_ = plt.hist(data, bins=200)"
   ]
  },
  {
   "cell_type": "code",
   "execution_count": null,
   "metadata": {},
   "outputs": [],
   "source": [
    "fig = cube_plotting(\n",
    "    mean_ratio,\n",
    "    title=f\"{targets[1]} / {targets[0]}\",\n",
    "    vmin=0,\n",
    "    vmax=150,\n",
    "    fig=plt.figure(figsize=(7, 3.2), dpi=200),\n",
    ")"
   ]
  }
 ],
 "metadata": {
  "kernelspec": {
   "display_name": "Python [conda env:wildfires] *",
   "language": "python",
   "name": "conda-env-wildfires-py"
  }
 },
 "nbformat": 4,
 "nbformat_minor": 4
}
