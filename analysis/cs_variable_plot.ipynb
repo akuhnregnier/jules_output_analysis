{
 "cells": [
  {
   "cell_type": "code",
   "execution_count": null,
   "metadata": {},
   "outputs": [],
   "source": [
    "import math\n",
    "from collections import defaultdict\n",
    "from datetime import datetime"
   ]
  },
  {
   "cell_type": "code",
   "execution_count": null,
   "metadata": {},
   "outputs": [],
   "source": [
    "from pathlib import Path\n",
    "\n",
    "import iris\n",
    "import matplotlib.pyplot as plt"
   ]
  },
  {
   "cell_type": "code",
   "execution_count": null,
   "metadata": {},
   "outputs": [],
   "source": [
    "DATA_DIR = Path(\"/work/scratch-nopw/alexkr/new_suite_test/jules_output\")"
   ]
  },
  {
   "cell_type": "code",
   "execution_count": null,
   "metadata": {},
   "outputs": [],
   "source": [
    "def extract_date(path):\n",
    "    return datetime.strptime(str(path).split(\".\")[-3], \"%Y%m%d\")"
   ]
  },
  {
   "cell_type": "code",
   "execution_count": null,
   "metadata": {},
   "outputs": [],
   "source": [
    "dump_files = sorted(DATA_DIR.glob(\"*dump*.nc\"), key=extract_date)\n",
    "dump_files"
   ]
  },
  {
   "cell_type": "code",
   "execution_count": null,
   "metadata": {},
   "outputs": [],
   "source": [
    "dates = list(map(extract_date, dump_files))\n",
    "dates"
   ]
  },
  {
   "cell_type": "code",
   "execution_count": null,
   "metadata": {},
   "outputs": [],
   "source": [
    "land_indices = [100, 200, 500]\n",
    "variable = \"cs\"\n",
    "plot_data = defaultdict(list)\n",
    "\n",
    "for data_file in dump_files:\n",
    "    cube = iris.load_cube(str(data_file), constraint=variable)\n",
    "    for land_index in land_indices:\n",
    "        for i in range(4):\n",
    "            data_point = cube.data[i, ..., land_index]\n",
    "            assert not data_point.mask\n",
    "            plot_data[(land_index, i)].append(data_point.data)\n",
    "\n",
    "nitems = len(plot_data)\n",
    "nrows = math.ceil(nitems ** 0.5)\n",
    "ncols = math.ceil(nitems / nrows)\n",
    "fig, axes = plt.subplots(nrows, ncols, figsize=(10, 7), constrained_layout=True)\n",
    "for ((key, values), ax) in zip(plot_data.items(), axes.ravel()):\n",
    "    ax.plot(dates, values, marker=\"o\")\n",
    "    ax.set_title(key)"
   ]
  },
  {
   "cell_type": "code",
   "execution_count": null,
   "metadata": {},
   "outputs": [],
   "source": [
    "plot_data[(500, 1)]"
   ]
  },
  {
   "cell_type": "code",
   "execution_count": null,
   "metadata": {},
   "outputs": [],
   "source": [
    "for data_file in dump_files:\n",
    "    cube = iris.load_cube(str(data_file), constraint=variable)\n",
    "    print(data_file)\n",
    "    print(np.sum(np.isnan(cube.data)))"
   ]
  }
 ],
 "metadata": {
  "kernelspec": {
   "display_name": "Python [conda env:wildfires] *",
   "language": "python",
   "name": "conda-env-wildfires-py"
  }
 },
 "nbformat": 4,
 "nbformat_minor": 4
}
